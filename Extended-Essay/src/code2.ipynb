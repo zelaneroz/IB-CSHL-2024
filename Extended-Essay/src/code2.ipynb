{
 "cells": [
  {
   "cell_type": "markdown",
   "source": [
    "## I. Dataset Preparation"
   ],
   "metadata": {
    "collapsed": false
   }
  },
  {
   "cell_type": "code",
   "execution_count": 5,
   "outputs": [],
   "source": [
    "#2000 samples for 5 runs\n",
    "samples = 2000\n",
    "#-7 to 2\n",
    "snr_desired = -6"
   ],
   "metadata": {
    "collapsed": false
   }
  },
  {
   "cell_type": "code",
   "execution_count": 6,
   "outputs": [
    {
     "name": "stdout",
     "output_type": "stream",
     "text": [
      "Requirement already satisfied: EMD-signal in ./venv/lib/python3.9/site-packages (1.5.1)\r\n",
      "Requirement already satisfied: tqdm==4.64.* in ./venv/lib/python3.9/site-packages (from EMD-signal) (4.64.1)\r\n",
      "Requirement already satisfied: numpy>=1.12 in ./venv/lib/python3.9/site-packages (from EMD-signal) (1.25.0)\r\n",
      "Requirement already satisfied: scipy>=0.19 in ./venv/lib/python3.9/site-packages (from EMD-signal) (1.11.1)\r\n",
      "Requirement already satisfied: pathos>=0.2.1 in ./venv/lib/python3.9/site-packages (from EMD-signal) (0.3.1)\r\n",
      "Requirement already satisfied: pox>=0.3.3 in ./venv/lib/python3.9/site-packages (from pathos>=0.2.1->EMD-signal) (0.3.3)\r\n",
      "Requirement already satisfied: dill>=0.3.7 in ./venv/lib/python3.9/site-packages (from pathos>=0.2.1->EMD-signal) (0.3.7)\r\n",
      "Requirement already satisfied: ppft>=1.7.6.7 in ./venv/lib/python3.9/site-packages (from pathos>=0.2.1->EMD-signal) (1.7.6.7)\r\n",
      "Requirement already satisfied: multiprocess>=0.70.15 in ./venv/lib/python3.9/site-packages (from pathos>=0.2.1->EMD-signal) (0.70.15)\r\n",
      "\u001B[33mWARNING: You are using pip version 21.3.1; however, version 23.2.1 is available.\r\n",
      "You should consider upgrading via the '/Users/zeespanto/PycharmProjects/ee/venv/bin/python -m pip install --upgrade pip' command.\u001B[0m\r\n",
      "Requirement already satisfied: memory-profiler in ./venv/lib/python3.9/site-packages (0.61.0)\r\n",
      "Requirement already satisfied: psutil in ./venv/lib/python3.9/site-packages (from memory-profiler) (5.9.5)\r\n",
      "\u001B[33mWARNING: You are using pip version 21.3.1; however, version 23.2.1 is available.\r\n",
      "You should consider upgrading via the '/Users/zeespanto/PycharmProjects/ee/venv/bin/python -m pip install --upgrade pip' command.\u001B[0m\r\n"
     ]
    }
   ],
   "source": [
    "!pip install EMD-signal\n",
    "!pip install memory-profiler"
   ],
   "metadata": {
    "collapsed": false
   }
  },
  {
   "cell_type": "code",
   "execution_count": 7,
   "outputs": [],
   "source": [
    "import random\n",
    "import numpy as np\n",
    "from PyEMD import EMD\n",
    "import matplotlib.pyplot as plt\n",
    "import memory_profiler\n",
    "import time\n",
    "from memory_profiler import memory_usage\n",
    "import psutil\n",
    "from sklearn.metrics import mean_squared_error"
   ],
   "metadata": {
    "collapsed": false
   }
  },
  {
   "cell_type": "code",
   "execution_count": 8,
   "outputs": [
    {
     "name": "stdout",
     "output_type": "stream",
     "text": [
      "------EEG-----\n",
      "Size: 2311168\n",
      "Row count: 4514\n",
      "Column count: 512\n",
      "First Column: [184.5070843  171.96198926 229.56731921 ... 317.59704985 262.89154388\n",
      " 216.07429779]\n",
      "\n",
      "\n",
      "------EMG(Heart)-----\n",
      "Size: 2866176\n",
      "Row count: 5598\n",
      "Column count: 512\n",
      "First Column: [20245.96672667 23595.64263225 34991.76745427 ...  1490.61150022\n",
      "   -38.705385    1260.54203952]\n",
      "\n",
      "\n",
      "------EOG(Ocular)-----\n",
      "Size: 1740800\n",
      "Row count: 3400\n",
      "Column count: 512\n",
      "First Column: [  7.30828446  -1.68701752  12.4808031  ...   6.81209745 298.19922839\n",
      " -44.54226777]\n"
     ]
    }
   ],
   "source": [
    "eeg = np.load('EEGDenoiseNet/EEG_all_epochs.npy')\n",
    "print(f\"------EEG-----\\nSize: {eeg.size}\\nRow count: {len(eeg)}\\nColumn count: {len(eeg[0])}\\nFirst Column: {eeg[:, 0]}\\n\\n\")\n",
    "\n",
    "emg = np.load('EEGDenoiseNet/EMG_all_epochs.npy')\n",
    "print(f\"------EMG(Heart)-----\\nSize: {emg.size}\\nRow count: {len(emg)}\\nColumn count: {len(emg[0])}\\nFirst Column: {emg[:, 0]}\\n\\n\")\n",
    "\n",
    "eog = np.load('EEGDenoiseNet/EOG_all_epochs.npy')\n",
    "print(f\"------EOG(Ocular)-----\\nSize: {eog.size}\\nRow count: {len(eog)}\\nColumn count: {len(eog[0])}\\nFirst Column: {eog[:, 0]}\")"
   ],
   "metadata": {
    "collapsed": false
   }
  },
  {
   "cell_type": "markdown",
   "source": [
    "## II. Contaminated Signal Generation"
   ],
   "metadata": {
    "collapsed": false
   }
  },
  {
   "cell_type": "code",
   "execution_count": 9,
   "outputs": [],
   "source": [
    "def get_random_rows(dataset, num_rows):\n",
    "    num_total_rows = dataset.shape[0]\n",
    "    selected_indices = np.random.choice(num_total_rows, size=num_rows, replace=False)\n",
    "    selected_rows = dataset[selected_indices, :]\n",
    "    return selected_rows\n",
    "\n",
    "\n",
    "def calculate_snr(clean_eeg, artifact_segment,λ):\n",
    "    N = 512\n",
    "    # Calculate the signal power (clean EEG)\n",
    "    signal_power = (np.sum(clean_eeg ** 2)*(1/N))**0.5\n",
    "    # Calculate the noise power (artifact segment)\n",
    "    noise_power = (np.sum((λ*artifact_segment)**2)*(1/N))**0.5\n",
    "    # Calculate the SNR in dB (RMS FORMULA)\n",
    "    snr_db = 10 * np.log10(signal_power / noise_power)\n",
    "    return round(snr_db,2)\n",
    "\n",
    "def generate_contaminated_signal(clean_eeg_data,artifact_data,num_samples:int,snr_valid):\n",
    "    num_clean_eeg_samples = clean_eeg_data.shape[0]\n",
    "    num_eog_artifacts = artifact_data.shape[0]\n",
    "\n",
    "    contaminated_eeg_data = []\n",
    "    contamination_indices = []\n",
    "    # lambda_values=[]\n",
    "    # snr_values=[]\n",
    "\n",
    "    for i in range(num_samples):\n",
    "        clean_eeg_index = np.random.randint(0, num_clean_eeg_samples)\n",
    "        eog_artifact_index = np.random.randint(0, num_eog_artifacts)\n",
    "\n",
    "        clean_eeg_sample = clean_eeg_data[clean_eeg_index]\n",
    "        artifact = artifact_data[eog_artifact_index]\n",
    "        snr=-8\n",
    "\n",
    "        while snr!=snr_valid:\n",
    "          #GENERATE RANDOM LAMBDA VALUE HERE\n",
    "          λ = random.uniform(-60,60)\n",
    "          #GENERATE CONTAMINATED SIGNAL USING FORMULA: y=x+(λ*n)\n",
    "          contaminated_eeg_sample = clean_eeg_sample + (artifact*λ)\n",
    "          snr=calculate_snr(clean_eeg_sample,artifact,λ)\n",
    "\n",
    "        contaminated_eeg_data.append(contaminated_eeg_sample)\n",
    "        contamination_indices.append((clean_eeg_index, eog_artifact_index))\n",
    "        # lambda_values.append(λ)\n",
    "        # snr_values.append(snr)\n",
    "    return np.array(contaminated_eeg_data), contamination_indices"
   ],
   "metadata": {
    "collapsed": false
   }
  },
  {
   "cell_type": "code",
   "execution_count": null,
   "outputs": [],
   "source": [
    "contaminated_eeg_data,indices = generate_contaminated_signal(eeg,eog,samples,snr_desired)"
   ],
   "metadata": {
    "collapsed": false,
    "pycharm": {
     "is_executing": true
    }
   }
  },
  {
   "cell_type": "markdown",
   "source": [
    "## III. Apply Empirical Mode Decomposition"
   ],
   "metadata": {
    "collapsed": false
   }
  },
  {
   "cell_type": "markdown",
   "source": [
    "### 3.1 Apply EMD"
   ],
   "metadata": {
    "collapsed": false
   }
  },
  {
   "cell_type": "code",
   "execution_count": null,
   "outputs": [],
   "source": [
    "def apply_emd(s):\n",
    "    process = psutil.Process()\n",
    "    sampling_rate = 256  # Hz\n",
    "    duration = 2  # seconds\n",
    "    t = np.arange(0, duration, 1/sampling_rate)\n",
    "\n",
    "    emd = EMD(DTYPE=np.float16, max_imfs=2)\n",
    "\n",
    "    # Start memory & time usage recording\n",
    "    start_time = time.time()\n",
    "    #psutil_mem_start = process.memory_info().rss / (1024 * 1024)\n",
    "    mem_usage_start = memory_usage()[0]\n",
    "    #mem_usage_start = psutil.Process().memory_info().rss / (1024 * 1024)\n",
    "\n",
    "    #EMD\n",
    "    IMF = EMD().emd(s,t)\n",
    "\n",
    "    # End memory & time usage recording\n",
    "    mem_usage_end = memory_usage()[0]\n",
    "    #mem_usage_end = psutil.Process().memory_info().rss / (1024 * 1024)\n",
    "\n",
    "    #psutil_mem_end = process.memory_info().rss / (1024 * 1024) #in Megabyte\n",
    "    end_time = time.time()\n",
    "\n",
    "    #Return memory & time usage results\n",
    "    mem_usage = mem_usage_end-mem_usage_start\n",
    "    execution_time = end_time - start_time\n",
    "   # psutil_mem_use = psutil_mem_end - psutil_mem_start\n",
    "\n",
    "\n",
    "    return IMF, mem_usage, execution_time"
   ],
   "metadata": {
    "collapsed": false,
    "pycharm": {
     "is_executing": true
    }
   }
  },
  {
   "cell_type": "markdown",
   "source": [
    "### 3.2 Get IMFs, Memory, and Time"
   ],
   "metadata": {
    "collapsed": false
   }
  },
  {
   "cell_type": "code",
   "execution_count": null,
   "outputs": [],
   "source": [
    "IMF_data, memory_data, time_data= [],[],[]\n",
    "for sample in contaminated_eeg_data:\n",
    "  IMF_temp, mem_temp, time_temp= apply_emd(sample)\n",
    "  IMF_data.append(IMF_temp)\n",
    "  memory_data.append(mem_temp)\n",
    "  time_data.append(time_temp)"
   ],
   "metadata": {
    "collapsed": false,
    "pycharm": {
     "is_executing": true
    }
   }
  },
  {
   "cell_type": "code",
   "execution_count": null,
   "outputs": [],
   "source": [
    "def reconstruct_signal_from_imfs(imfs):\n",
    "    # Reconstruct the signal by summing all the IMFs\n",
    "    reconstructed_signal = np.sum(imfs, axis=0)\n",
    "\n",
    "    return reconstructed_signal"
   ],
   "metadata": {
    "collapsed": false,
    "pycharm": {
     "is_executing": true
    }
   }
  },
  {
   "cell_type": "code",
   "execution_count": null,
   "outputs": [],
   "source": [
    "reconstructed_emd = []\n",
    "for i in IMF_data:\n",
    "  reconstructed_emd.append(reconstruct_signal_from_imfs(i))"
   ],
   "metadata": {
    "collapsed": false,
    "pycharm": {
     "is_executing": true
    }
   }
  },
  {
   "cell_type": "code",
   "execution_count": null,
   "outputs": [],
   "source": [
    "def calculate_nmse(original, denoised):\n",
    "    mse = mean_squared_error(original, denoised)\n",
    "    # count_zeros_mse=0\n",
    "\n",
    "    # if mse==0:\n",
    "    #   count_zeros_mse+=1\n",
    "    #   print(f\"Count of zero MSEs: {count_zeros_mse}\")\n",
    "    #   print(f\"ORIGINAL: {original}\\nDENOISED: {denoised}\")\n",
    "    # print(mse)\n",
    "\n",
    "    actual_variance = np.var(original)\n",
    "\n",
    "\n",
    "    #original_mse = mean_squared_error(original, original)\n",
    "    # print(actual_variance)\n",
    "    nmse = mse / actual_variance\n",
    "    # print(nmse)\n",
    "\n",
    "    return nmse\n"
   ],
   "metadata": {
    "collapsed": false,
    "pycharm": {
     "is_executing": true
    }
   }
  },
  {
   "cell_type": "code",
   "execution_count": null,
   "outputs": [],
   "source": [
    "mse_list=[]\n",
    "for i in range(len(contaminated_eeg_data)):\n",
    "  mse_list.append(calculate_nmse(contaminated_eeg_data[i], reconstructed_emd[i] ))\n",
    "\n",
    "#print(mse_list)"
   ],
   "metadata": {
    "collapsed": false,
    "pycharm": {
     "is_executing": true
    }
   }
  },
  {
   "cell_type": "code",
   "execution_count": null,
   "outputs": [],
   "source": [
    "avg_memory,avg_time,avg_mse=0,0,0\n",
    "\n",
    "for i in memory_data:\n",
    "  avg_memory+=i\n",
    "\n",
    "for j in time_data:\n",
    "  avg_time+=j\n",
    "\n",
    "for k in mse_list:\n",
    "  avg_mse+=k\n",
    "\n",
    "print(f\"Total memory: {avg_memory} ----RECORD ME\")\n",
    "print(f\"Total time: {avg_time}\")\n",
    "#print(avg_time)\n",
    "avg_memory=avg_memory/(len(memory_data))\n",
    "avg_time = avg_time/(len(time_data))\n",
    "avg_mse = avg_mse/(len(mse_list))\n",
    "\n",
    "\n",
    "print(f\"Average memory data: {avg_memory}\\nAverage time data: {avg_time}\\nMSE: {avg_mse}\")\n"
   ],
   "metadata": {
    "collapsed": false,
    "pycharm": {
     "is_executing": true
    }
   }
  },
  {
   "cell_type": "markdown",
   "source": [
    "## IV. Independent Component Analysis"
   ],
   "metadata": {
    "collapsed": false
   }
  },
  {
   "cell_type": "code",
   "execution_count": null,
   "outputs": [],
   "source": [
    "import time\n",
    "from sklearn.decomposition import FastICA\n",
    "\n",
    "def apply_ica(data):\n",
    "    runtime_total = 0\n",
    "    #START measuring time & memory\n",
    "    start_time = time.time()\n",
    "    initial_memory = psutil.Process().memory_info().rss / (1024 * 1024)  # in MB\n",
    "    print(initial_memory)\n",
    "\n",
    "    ica=FastICA(n_components=5, random_state=0)\n",
    "    ica_result = ica.fit_transform(contaminated_eeg_data.T).T\n",
    "    denoised_signal = ica.inverse_transform(ica_result.T).T\n",
    "\n",
    "    final_memory = psutil.Process().memory_info().rss / (1024 * 1024)  # in MB\n",
    "    print(final_memory)\n",
    "    end_time = time.time()\n",
    "\n",
    "    runtime = end_time - start_time\n",
    "    print(start_time, end_time, runtime)\n",
    "    memory_usage = final_memory - initial_memory\n",
    "\n",
    "\n",
    "    return ica_result,denoised_signal,memory_usage, runtime\n"
   ],
   "metadata": {
    "collapsed": false,
    "pycharm": {
     "is_executing": true
    }
   }
  },
  {
   "cell_type": "code",
   "execution_count": null,
   "outputs": [],
   "source": [
    "ICA_data, reconstructed_ica, ica_memory_data, ica_time_data= apply_ica(contaminated_eeg_data)"
   ],
   "metadata": {
    "collapsed": false,
    "pycharm": {
     "is_executing": true
    }
   }
  },
  {
   "cell_type": "code",
   "execution_count": null,
   "outputs": [],
   "source": [
    "print(f\"ICA Memory: {ica_memory_data}\\nICA Runtime:{ica_time_data}\\nICA Runtime*10:    {ica_time_data*10}--RECORD ME\")\n",
    "print(f\"\\nRuntime*2000: {ica_time_data*2000}\")"
   ],
   "metadata": {
    "collapsed": false,
    "pycharm": {
     "is_executing": true
    }
   }
  },
  {
   "cell_type": "code",
   "execution_count": null,
   "outputs": [],
   "source": [
    "ica_mse_list=[]\n",
    "for i in range(len(contaminated_eeg_data)):\n",
    "  ica_mse_list.append(calculate_nmse(contaminated_eeg_data[i], reconstructed_ica[i] ))\n",
    "\n",
    "#print(mse_list)"
   ],
   "metadata": {
    "collapsed": false,
    "pycharm": {
     "is_executing": true
    }
   }
  },
  {
   "cell_type": "code",
   "execution_count": null,
   "outputs": [],
   "source": [
    "ica_avg_mse=0\n",
    "\n",
    "for k in ica_mse_list:\n",
    "  ica_avg_mse+=k\n",
    "\n",
    "ica_avg_mse = avg_mse/(len(ica_mse_list))\n",
    "\n",
    "print(f\"ICA MSE: {ica_avg_mse}\")\n"
   ],
   "metadata": {
    "collapsed": false,
    "pycharm": {
     "is_executing": true
    }
   }
  }
 ],
 "metadata": {
  "kernelspec": {
   "display_name": "Python 3 (ipykernel)",
   "language": "python",
   "name": "python3"
  },
  "language_info": {
   "codemirror_mode": {
    "name": "ipython",
    "version": 3
   },
   "file_extension": ".py",
   "mimetype": "text/x-python",
   "name": "python",
   "nbconvert_exporter": "python",
   "pygments_lexer": "ipython3",
   "version": "3.9.6"
  }
 },
 "nbformat": 4,
 "nbformat_minor": 1
}
